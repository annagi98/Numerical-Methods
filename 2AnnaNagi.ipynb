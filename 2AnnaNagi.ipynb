{
 "cells": [
  {
   "cell_type": "code",
   "execution_count": 1,
   "metadata": {},
   "outputs": [
    {
     "name": "stdout",
     "output_type": "stream",
     "text": [
      "\n",
      "\n",
      "1\n",
      "\n",
      "Blad bezwzgledny =  0.0012644892673496777\n",
      "\n",
      "Blad wzgledny =  0.0004024994347707008\n",
      "\n",
      "\n",
      "2\n",
      "\n",
      "Blad bezwzgledny =  0.0002818284590451192\n",
      "\n",
      "Blad wzgledny =  0.00010367889601972718\n",
      "\n",
      "\n",
      "3\n",
      "\n",
      "Blad bezwzgledny =  11.544268632989315\n",
      "\n",
      "Blad wzgledny =  0.008332470227394952\n",
      "\n",
      "\n",
      "4\n",
      "\n",
      "Blad bezwzgledny =  3343.1271580516477\n",
      "\n",
      "Blad wzgledny =  0.009212762230080598\n"
     ]
    }
   ],
   "source": [
    "#Anna Nagi\n",
    "#zad1\n",
    "from math import pi,e, factorial, sqrt\n",
    "\n",
    "#1\n",
    "p = pi\n",
    "p_ap = 22/7\n",
    "\n",
    "print(\"\\n\\n1\")\n",
    "bezwzgledny1 = abs(p - p_ap)\n",
    "print(\"\\nBlad bezwzgledny = \",bezwzgledny1)\n",
    "\n",
    "wzgledny1 = bezwzgledny1 / p\n",
    "print(\"\\nBlad wzgledny = \", wzgledny1)\n",
    "\n",
    "\n",
    "#2\n",
    "p = e\n",
    "p_ap = 2.718\n",
    "\n",
    "print(\"\\n\\n2\")\n",
    "bezwzgledny2 = abs(p - p_ap)\n",
    "print(\"\\nBlad bezwzgledny = \",bezwzgledny2)\n",
    "\n",
    "wzgledny2 = bezwzgledny2 / p\n",
    "print(\"\\nBlad wzgledny = \", wzgledny2)\n",
    "\n",
    "\n",
    "#3\n",
    "p = 10**pi\n",
    "p_ap = 1397\n",
    "\n",
    "print(\"\\n\\n3\")\n",
    "bezwzgledny3 = abs(p - p_ap)\n",
    "print(\"\\nBlad bezwzgledny = \",bezwzgledny3)\n",
    "\n",
    "wzgledny3 = bezwzgledny3 / p\n",
    "print(\"\\nBlad wzgledny = \", wzgledny3)\n",
    "\n",
    " \n",
    "#4\n",
    "p = factorial(9)\n",
    "p_ap = sqrt(18 * pi) * (9/e) ** 9\n",
    "\n",
    "print(\"\\n\\n4\")\n",
    "bezwzgledny4 = abs(p - p_ap)\n",
    "print(\"\\nBlad bezwzgledny = \",bezwzgledny4)\n",
    "\n",
    "wzgledny4 = bezwzgledny4 / p\n",
    "print(\"\\nBlad wzgledny = \", wzgledny4)\n",
    "\n",
    "\n"
   ]
  },
  {
   "cell_type": "code",
   "execution_count": 5,
   "metadata": {},
   "outputs": [
    {
     "name": "stdout",
     "output_type": "stream",
     "text": [
      "1. Wartosc G(p) obliczona w sposob analityczny nie zalezy od p, poniewaz wzor mozna przeksztalcic do postaci, \n",
      "w ktorej G(p) = pi\n",
      "\n",
      "2. Obliczam blad bezwzgledny i wzgledny w stosunku do pi zaokraglonego do 15 miejsc po przecinku\n"
     ]
    },
    {
     "data": {
      "image/png": "[encoded data removed]",
      "text/plain": [
       "<matplotlib.figure.Figure at 0x7901bd7f0>"
      ]
     },
     "metadata": {},
     "output_type": "display_data"
    },
    {
     "name": "stdout",
     "output_type": "stream",
     "text": [
      "\n",
      "3. Blad zarowno wzgledny, jak i bezwzgledny wzrasta wtedy, gdy n wzrasta. Im wieksza liczba n, tym blad jest wiekszy. Wykresy obu bledow sa niemal identyczne - roznia sie tylko o przesuniecie w pionie.\n",
      "\n",
      "4. Wystepuje tutaj blad zaokraglenia. Jest on tym wiekszy, im wieksze jest n.\n"
     ]
    }
   ],
   "source": [
    "\n",
    "\n",
    "#zad1\n",
    "from math import pi\n",
    "from numpy import  append, array, linspace\n",
    "import matplotlib.pyplot as plt\n",
    "\n",
    "pomocnicza = lambda p : (1/p) *    (  (10**p) * (1 + p*round(pi, 15)*(10**(-p)) ) - (10**p) )\n",
    "\n",
    "def funkcja1(n):\n",
    "    wektor = array([])\n",
    "    for i in range(1, n+1):\n",
    "        wektor = append(wektor, pomocnicza(i))\n",
    "\n",
    "        \n",
    "print(\"1. Wartosc G(p) obliczona w sposob analityczny nie zalezy od p, poniewaz wzor mozna przeksztalcic do postaci, \\nw ktorej G(p) = pi\")\n",
    "print(\"\\n2. Obliczam blad bezwzgledny i wzgledny w stosunku do pi zaokraglonego do 15 miejsc po przecinku\")\n",
    "\n",
    "rounded_pi = round(pi,15)\n",
    "\n",
    "x = linspace(1,19)\n",
    "\n",
    "y_bez = []\n",
    "for i in x:\n",
    "    bezwzgledny = lambda i : abs(round(pi,15) - pomocnicza(i))\n",
    "    y_bez.append(bezwzgledny(i))\n",
    "    #print(y)\n",
    "\n",
    "y_wzg = []\n",
    "for i in x:\n",
    "    wzgledny = lambda i : bezwzgledny(i)/round(pi,15)\n",
    "    y_wzg.append(wzgledny(i))\n",
    "\n",
    "plt.title('Zaleznosc logarytmiczna bledow od n: ')\n",
    "plt.xlabel('n')\n",
    "plt.ylabel('wartosc bledu')\n",
    "\n",
    "\n",
    "wykres_bezwzg = plt.semilogy(x, y_bez, label = \"bezwzgledny\")  \n",
    "wykres_wzgledny = plt.semilogy(x, y_wzg, label = \"wzgledny\")\n",
    "plt.legend(loc=\"upper left\", bbox_to_anchor=[0, 1],\n",
    "           ncol=2, shadow=True, title=\"Legenda\")\n",
    "plt.show()\n",
    "\n",
    "\n",
    "print(\"\\n3. Blad zarowno wzgledny, jak i bezwzgledny wzrasta wtedy, gdy n wzrasta. Im wieksza liczba n, tym blad jest wiekszy. Wykresy obu bledow sa niemal identyczne - roznia sie tylko o przesuniecie w pionie.\")\n",
    "\n",
    "print(\"\\n4. Wystepuje tutaj blad zaokraglenia. Jest on tym wiekszy, im wieksze jest n.\")\n",
    "\n"
   ]
  },
  {
   "cell_type": "code",
   "execution_count": 6,
   "metadata": {},
   "outputs": [
    {
     "name": "stdout",
     "output_type": "stream",
     "text": [
      "1. Suma do 5\n",
      "Bezwzgledny : \n",
      "0.0016151617923787498\n",
      "Wzgledny : \n",
      "0.0005941848175817597\n",
      "\n",
      "\n",
      "2. Suma do 10\n",
      "Bezwzgledny : \n",
      "2.7312660577649694e-08\n",
      "Wzgledny : \n",
      "1.0047766310211053e-08\n"
     ]
    }
   ],
   "source": [
    "#zad3\n",
    "from math import factorial, e\n",
    "\n",
    "e_value = lambda n: sum ([1/factorial(n) for n in range(0, n+1)])\n",
    "bezwzgledny = lambda e_ap: abs(e - e_ap)\n",
    "wzgledny = lambda bezwg : bezwg / e\n",
    "\n",
    "print(\"1. Suma do 5\")\n",
    "e_ap5 = e_value(5)\n",
    "bez5 = bezwzgledny(e_ap5)\n",
    "wzg5 = wzgledny(bez5)\n",
    "print(\"Bezwzgledny : \")\n",
    "print(bez5)\n",
    "print(\"Wzgledny : \")\n",
    "print(wzg5)\n",
    "\n",
    "print(\"\\n\\n2. Suma do 10\")\n",
    "e_ap10 = e_value(10)\n",
    "bez10 = bezwzgledny(e_ap10)\n",
    "wzg10 = wzgledny(bez10)\n",
    "print(\"Bezwzgledny : \")\n",
    "print(bez10)\n",
    "print(\"Wzgledny : \")\n",
    "print(wzg10)"
   ]
  },
  {
   "cell_type": "code",
   "execution_count": 9,
   "metadata": {},
   "outputs": [
    {
     "name": "stdout",
     "output_type": "stream",
     "text": [
      "Wartosc b: \n",
      "1.1102230246251565e-16\n",
      "Liczba bitow mantysy domyslnego typu zmiennoprzecinkowego w pythonie wynosi:\n",
      "52\n",
      "\n",
      "Mamy tu doczynienia z bledem reprezentacji liczby zmiennopozycyjnej na etapie tworzenia liczby b\n",
      " - podnoszenia liczby 2 do potegi -bit, gdzie ilosc bitow jest zbyt duza dla danego typu zmiennoprzecinkowego\n"
     ]
    }
   ],
   "source": [
    "#zad 4\n",
    "bit = 1\n",
    "b = 2\n",
    "a =1.0\n",
    "\n",
    "while True:\n",
    "    b=2**(-bit)\n",
    "    if((a+b-a-b)!=0):\n",
    "        break\n",
    "    bit+=1\n",
    "\n",
    "print(\"Wartosc b: \")\n",
    "print(b)\n",
    "\n",
    "print(\"Liczba bitow mantysy domyslnego typu zmiennoprzecinkowego w pythonie wynosi:\")\n",
    "print(bit-1)\n",
    "\n",
    "print(\"\\nMamy tu doczynienia z bledem reprezentacji liczby zmiennopozycyjnej na etapie tworzenia liczby b\\n - podnoszenia liczby 2 do potegi -bit, gdzie ilosc bitow jest zbyt duza dla danego typu zmiennoprzecinkowego\")"
   ]
  },
  {
   "cell_type": "code",
   "execution_count": 10,
   "metadata": {},
   "outputs": [
    {
     "name": "stdout",
     "output_type": "stream",
     "text": [
      "Dla 1:\n",
      "0.0\n",
      "Dla 10:\n",
      "3.0395075895610533\n",
      "Dla 100:\n",
      "3.1319807472443624\n",
      "Dla 1000000:\n",
      "3.141591698659554\n",
      "Im wieksza liczbe podamy do lambdy, tym wynik bedzie bardziej zblizony do oczekiwanego. Przy zbyt malej liczbie mamy do czynienia z bledem obciecia. \n",
      "Blad moze wystapic rowniez przy dzieleniu przez  6 - jest to blad zaokraglenia\n"
     ]
    }
   ],
   "source": [
    "#zad5\n",
    "from math import sqrt\n",
    "\n",
    "pi = lambda z: sqrt (6 * sum(1/n**2 for n in range(1,z)))\n",
    "\n",
    "print(\"Dla 1:\")\n",
    "print(pi(1))\n",
    "print(\"Dla 10:\")\n",
    "print(pi(10))\n",
    "print(\"Dla 100:\")\n",
    "print(pi(100))\n",
    "print(\"Dla 1000000:\")\n",
    "print(pi(1000000))\n",
    "print(\"Im wieksza liczbe podamy do lambdy, tym wynik bedzie bardziej zblizony do oczekiwanego. Przy zbyt malej liczbie mamy do czynienia z bledem obciecia. \")\n",
    "print(\"Blad moze wystapic rowniez przy dzieleniu przez  6 - jest to blad zaokraglenia\")"
   ]
  }
 ],
 "metadata": {
  "kernelspec": {
   "display_name": "Python 3",
   "language": "python",
   "name": "python3"
  },
  "language_info": {
   "codemirror_mode": {
    "name": "ipython",
    "version": 3
   },
   "file_extension": ".py",
   "mimetype": "text/x-python",
   "name": "python",
   "nbconvert_exporter": "python",
   "pygments_lexer": "ipython3",
   "version": "3.6.2"
  }
 },
 "nbformat": 4,
 "nbformat_minor": 2
}
